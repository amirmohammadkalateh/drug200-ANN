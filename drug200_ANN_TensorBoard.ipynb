{
  "nbformat": 4,
  "nbformat_minor": 0,
  "metadata": {
    "colab": {
      "provenance": [],
      "authorship_tag": "ABX9TyN93JMHbx64ezbZb5kfZuYG",
      "include_colab_link": true
    },
    "kernelspec": {
      "name": "python3",
      "display_name": "Python 3"
    },
    "language_info": {
      "name": "python"
    }
  },
  "cells": [
    {
      "cell_type": "markdown",
      "metadata": {
        "id": "view-in-github",
        "colab_type": "text"
      },
      "source": [
        "<a href=\"https://colab.research.google.com/github/amirmohammadkalateh/drug200-ANN/blob/TensorBoard/drug200_ANN_TensorBoard.ipynb\" target=\"_parent\"><img src=\"https://colab.research.google.com/assets/colab-badge.svg\" alt=\"Open In Colab\"/></a>"
      ]
    },
    {
      "cell_type": "code",
      "execution_count": null,
      "metadata": {
        "colab": {
          "base_uri": "https://localhost:8080/"
        },
        "id": "pTom302upGRf",
        "outputId": "d3242539-6551-4919-aab6-725c18c1261a"
      },
      "outputs": [
        {
          "output_type": "stream",
          "name": "stdout",
          "text": [
            "   Age  Sex  BP  Cholesterol  Na_to_K\n",
            "0   23    0   0            0   25.355\n",
            "1   47    1   1            0   13.093\n",
            "2   47    1   1            0   10.114\n",
            "3   28    0   2            0    7.798\n",
            "4   61    0   1            0   18.043\n",
            "0    4\n",
            "1    2\n",
            "2    2\n",
            "3    3\n",
            "4    4\n",
            "Name: Drug, dtype: int64\n"
          ]
        }
      ],
      "source": [
        "import pandas as pd\n",
        "import numpy as np\n",
        "import matplotlib.pyplot as plt\n",
        "from sklearn.preprocessing import LabelEncoder\n",
        "import keras\n",
        "from keras import layers\n",
        "from keras import ops\n",
        "from sklearn.model_selection import train_test_split\n",
        "\n",
        "data = pd.read_csv('drug200.csv')\n",
        "\n",
        "\n",
        "label_encoder_sex = LabelEncoder()\n",
        "label_encoder_bp = LabelEncoder()\n",
        "label_encoder_chol = LabelEncoder()\n",
        "label_encoder_drug = LabelEncoder()\n",
        "\n",
        "\n",
        "data['Sex'] = label_encoder_sex.fit_transform(data['Sex'])\n",
        "data['BP'] = label_encoder_bp.fit_transform(data['BP'])\n",
        "data['Cholesterol'] = label_encoder_chol.fit_transform(data['Cholesterol'])\n",
        "data['Drug'] = label_encoder_drug.fit_transform(data['Drug'])\n",
        "\n",
        "\n",
        "X = data.drop('Drug', axis=1)\n",
        "y = data['Drug']\n",
        "\n",
        "\n",
        "print(X.head())\n",
        "print(y.head())"
      ]
    },
    {
      "cell_type": "code",
      "source": [
        "print(data.size)\n",
        "print(data.shape)"
      ],
      "metadata": {
        "colab": {
          "base_uri": "https://localhost:8080/"
        },
        "id": "iJdB1G9Ape0w",
        "outputId": "0205c8de-bb20-47c0-8e91-a7dcb367506c"
      },
      "execution_count": null,
      "outputs": [
        {
          "output_type": "stream",
          "name": "stdout",
          "text": [
            "1200\n",
            "(200, 6)\n"
          ]
        }
      ]
    },
    {
      "cell_type": "code",
      "execution_count": null,
      "metadata": {
        "colab": {
          "base_uri": "https://localhost:8080/"
        },
        "outputId": "cca888a0-d40b-4dae-c2e3-52db3349abd0",
        "id": "4PZPu6xsqIvW"
      },
      "outputs": [
        {
          "output_type": "stream",
          "name": "stdout",
          "text": [
            "0    4\n",
            "1    2\n",
            "2    2\n",
            "3    3\n",
            "4    4\n",
            "5    3\n",
            "6    4\n",
            "7    2\n",
            "8    4\n",
            "9    4\n",
            "Name: Drug, dtype: int64\n",
            "[   Age  Sex  BP  Cholesterol  Na_to_K\n",
            "0   23    0   0            0   25.355\n",
            "1   47    1   1            0   13.093\n",
            "2   47    1   1            0   10.114\n",
            "3   28    0   2            0    7.798\n",
            "4   61    0   1            0   18.043\n",
            "5   22    0   2            0    8.607\n",
            "6   49    0   2            0   16.275\n",
            "7   41    1   1            0   11.037\n",
            "8   60    1   2            0   15.171\n",
            "9   43    1   1            1   19.368]\n"
          ]
        }
      ],
      "source": [
        "X = data [[\"Age\" , \"Sex\" ,\"BP\" ,\"Cholesterol\" , \"Na_to_K\" ]]\n",
        "y = data [\"Drug\"]\n",
        "print(y[0:10])\n",
        "print([X[0:10]])"
      ]
    },
    {
      "cell_type": "code",
      "source": [
        "X_train, X_temp, y_train, y_temp = train_test_split(X, y, test_size=0.3, random_state=42)\n",
        "X_val, X_test, y_val, y_test = train_test_split(X_temp, y_temp, test_size=0.5, random_state=42)"
      ],
      "metadata": {
        "id": "9jaOaaz_ubOv"
      },
      "execution_count": null,
      "outputs": []
    },
    {
      "cell_type": "code",
      "source": [
        "model = keras.Sequential([\n",
        "    layers.Dense(64, activation='relu', input_shape=(X_train.shape[1],)),\n",
        "    layers.Dense(32, activation='relu'),\n",
        "    layers.Dense(5 , activation = \"softmax\")\n",
        "])"
      ],
      "metadata": {
        "colab": {
          "base_uri": "https://localhost:8080/"
        },
        "id": "5ETsQlMAuobl",
        "outputId": "33e106bf-1c2a-47d9-c7ab-d95aecd81912"
      },
      "execution_count": null,
      "outputs": [
        {
          "output_type": "stream",
          "name": "stderr",
          "text": [
            "/usr/local/lib/python3.11/dist-packages/keras/src/layers/core/dense.py:87: UserWarning: Do not pass an `input_shape`/`input_dim` argument to a layer. When using Sequential models, prefer using an `Input(shape)` object as the first layer in the model instead.\n",
            "  super().__init__(activity_regularizer=activity_regularizer, **kwargs)\n"
          ]
        }
      ]
    },
    {
      "cell_type": "code",
      "source": [
        "model.compile(optimizer='SGD',\n",
        "              loss='mse',\n",
        "              metrics=['mae'])"
      ],
      "metadata": {
        "id": "9V12h_9dvGJp"
      },
      "execution_count": null,
      "outputs": []
    },
    {
      "cell_type": "code",
      "source": [
        "model.fit(X_train,\n",
        "          y_train,\n",
        "          epochs=50,\n",
        "          batch_size=32,\n",
        "          validation_data=(X_val, y_val),\n",
        "          verbose=1)"
      ],
      "metadata": {
        "colab": {
          "base_uri": "https://localhost:8080/"
        },
        "id": "zXTpc0LEvf6Y",
        "outputId": "aa6aeccf-02cf-4f4f-f499-f1d18e995e38"
      },
      "execution_count": null,
      "outputs": [
        {
          "output_type": "stream",
          "name": "stdout",
          "text": [
            "Epoch 1/50\n",
            "\u001b[1m5/5\u001b[0m \u001b[32m━━━━━━━━━━━━━━━━━━━━\u001b[0m\u001b[37m\u001b[0m \u001b[1m1s\u001b[0m 65ms/step - loss: 9.2408 - mae: 2.7287 - val_loss: 8.6725 - val_mae: 2.6400\n",
            "Epoch 2/50\n",
            "\u001b[1m5/5\u001b[0m \u001b[32m━━━━━━━━━━━━━━━━━━━━\u001b[0m\u001b[37m\u001b[0m \u001b[1m0s\u001b[0m 18ms/step - loss: 9.1873 - mae: 2.7168 - val_loss: 8.6709 - val_mae: 2.6400\n",
            "Epoch 3/50\n",
            "\u001b[1m5/5\u001b[0m \u001b[32m━━━━━━━━━━━━━━━━━━━━\u001b[0m\u001b[37m\u001b[0m \u001b[1m0s\u001b[0m 20ms/step - loss: 8.8989 - mae: 2.6355 - val_loss: 8.6683 - val_mae: 2.6400\n",
            "Epoch 4/50\n",
            "\u001b[1m5/5\u001b[0m \u001b[32m━━━━━━━━━━━━━━━━━━━━\u001b[0m\u001b[37m\u001b[0m \u001b[1m0s\u001b[0m 18ms/step - loss: 9.5545 - mae: 2.7900 - val_loss: 8.6629 - val_mae: 2.6400\n",
            "Epoch 5/50\n",
            "\u001b[1m5/5\u001b[0m \u001b[32m━━━━━━━━━━━━━━━━━━━━\u001b[0m\u001b[37m\u001b[0m \u001b[1m0s\u001b[0m 18ms/step - loss: 9.3216 - mae: 2.7306 - val_loss: 8.6411 - val_mae: 2.6400\n",
            "Epoch 6/50\n",
            "\u001b[1m5/5\u001b[0m \u001b[32m━━━━━━━━━━━━━━━━━━━━\u001b[0m\u001b[37m\u001b[0m \u001b[1m0s\u001b[0m 17ms/step - loss: 9.0880 - mae: 2.7091 - val_loss: 8.5961 - val_mae: 2.6400\n",
            "Epoch 7/50\n",
            "\u001b[1m5/5\u001b[0m \u001b[32m━━━━━━━━━━━━━━━━━━━━\u001b[0m\u001b[37m\u001b[0m \u001b[1m0s\u001b[0m 26ms/step - loss: 9.1551 - mae: 2.7088 - val_loss: 8.5549 - val_mae: 2.6400\n",
            "Epoch 8/50\n",
            "\u001b[1m5/5\u001b[0m \u001b[32m━━━━━━━━━━━━━━━━━━━━\u001b[0m\u001b[37m\u001b[0m \u001b[1m0s\u001b[0m 18ms/step - loss: 9.1653 - mae: 2.7297 - val_loss: 8.5523 - val_mae: 2.6400\n",
            "Epoch 9/50\n",
            "\u001b[1m5/5\u001b[0m \u001b[32m━━━━━━━━━━━━━━━━━━━━\u001b[0m\u001b[37m\u001b[0m \u001b[1m0s\u001b[0m 18ms/step - loss: 8.9215 - mae: 2.6931 - val_loss: 8.5506 - val_mae: 2.6400\n",
            "Epoch 10/50\n",
            "\u001b[1m5/5\u001b[0m \u001b[32m━━━━━━━━━━━━━━━━━━━━\u001b[0m\u001b[37m\u001b[0m \u001b[1m0s\u001b[0m 20ms/step - loss: 9.0800 - mae: 2.7151 - val_loss: 8.5485 - val_mae: 2.6400\n",
            "Epoch 11/50\n",
            "\u001b[1m5/5\u001b[0m \u001b[32m━━━━━━━━━━━━━━━━━━━━\u001b[0m\u001b[37m\u001b[0m \u001b[1m0s\u001b[0m 19ms/step - loss: 8.6742 - mae: 2.6287 - val_loss: 8.5457 - val_mae: 2.6400\n",
            "Epoch 12/50\n",
            "\u001b[1m5/5\u001b[0m \u001b[32m━━━━━━━━━━━━━━━━━━━━\u001b[0m\u001b[37m\u001b[0m \u001b[1m0s\u001b[0m 18ms/step - loss: 8.8417 - mae: 2.6405 - val_loss: 8.5420 - val_mae: 2.6400\n",
            "Epoch 13/50\n",
            "\u001b[1m5/5\u001b[0m \u001b[32m━━━━━━━━━━━━━━━━━━━━\u001b[0m\u001b[37m\u001b[0m \u001b[1m0s\u001b[0m 19ms/step - loss: 8.8777 - mae: 2.6838 - val_loss: 8.5346 - val_mae: 2.6400\n",
            "Epoch 14/50\n",
            "\u001b[1m5/5\u001b[0m \u001b[32m━━━━━━━━━━━━━━━━━━━━\u001b[0m\u001b[37m\u001b[0m \u001b[1m0s\u001b[0m 20ms/step - loss: 8.7933 - mae: 2.6493 - val_loss: 8.5340 - val_mae: 2.6400\n",
            "Epoch 15/50\n",
            "\u001b[1m5/5\u001b[0m \u001b[32m━━━━━━━━━━━━━━━━━━━━\u001b[0m\u001b[37m\u001b[0m \u001b[1m0s\u001b[0m 24ms/step - loss: 8.9091 - mae: 2.6811 - val_loss: 8.5335 - val_mae: 2.6400\n",
            "Epoch 16/50\n",
            "\u001b[1m5/5\u001b[0m \u001b[32m━━━━━━━━━━━━━━━━━━━━\u001b[0m\u001b[37m\u001b[0m \u001b[1m0s\u001b[0m 19ms/step - loss: 8.8385 - mae: 2.6664 - val_loss: 8.5333 - val_mae: 2.6400\n",
            "Epoch 17/50\n",
            "\u001b[1m5/5\u001b[0m \u001b[32m━━━━━━━━━━━━━━━━━━━━\u001b[0m\u001b[37m\u001b[0m \u001b[1m0s\u001b[0m 18ms/step - loss: 9.0911 - mae: 2.6953 - val_loss: 8.5329 - val_mae: 2.6400\n",
            "Epoch 18/50\n",
            "\u001b[1m5/5\u001b[0m \u001b[32m━━━━━━━━━━━━━━━━━━━━\u001b[0m\u001b[37m\u001b[0m \u001b[1m0s\u001b[0m 18ms/step - loss: 9.0792 - mae: 2.7239 - val_loss: 8.5328 - val_mae: 2.6400\n",
            "Epoch 19/50\n",
            "\u001b[1m5/5\u001b[0m \u001b[32m━━━━━━━━━━━━━━━━━━━━\u001b[0m\u001b[37m\u001b[0m \u001b[1m0s\u001b[0m 19ms/step - loss: 8.8038 - mae: 2.6651 - val_loss: 8.5325 - val_mae: 2.6400\n",
            "Epoch 20/50\n",
            "\u001b[1m5/5\u001b[0m \u001b[32m━━━━━━━━━━━━━━━━━━━━\u001b[0m\u001b[37m\u001b[0m \u001b[1m0s\u001b[0m 34ms/step - loss: 9.4638 - mae: 2.8124 - val_loss: 8.5323 - val_mae: 2.6400\n",
            "Epoch 21/50\n",
            "\u001b[1m5/5\u001b[0m \u001b[32m━━━━━━━━━━━━━━━━━━━━\u001b[0m\u001b[37m\u001b[0m \u001b[1m0s\u001b[0m 34ms/step - loss: 9.0543 - mae: 2.7151 - val_loss: 8.5323 - val_mae: 2.6400\n",
            "Epoch 22/50\n",
            "\u001b[1m5/5\u001b[0m \u001b[32m━━━━━━━━━━━━━━━━━━━━\u001b[0m\u001b[37m\u001b[0m \u001b[1m0s\u001b[0m 40ms/step - loss: 8.9911 - mae: 2.6842 - val_loss: 8.5320 - val_mae: 2.6400\n",
            "Epoch 23/50\n",
            "\u001b[1m5/5\u001b[0m \u001b[32m━━━━━━━━━━━━━━━━━━━━\u001b[0m\u001b[37m\u001b[0m \u001b[1m0s\u001b[0m 33ms/step - loss: 8.9985 - mae: 2.6971 - val_loss: 8.5320 - val_mae: 2.6400\n",
            "Epoch 24/50\n",
            "\u001b[1m5/5\u001b[0m \u001b[32m━━━━━━━━━━━━━━━━━━━━\u001b[0m\u001b[37m\u001b[0m \u001b[1m0s\u001b[0m 35ms/step - loss: 8.9612 - mae: 2.7075 - val_loss: 8.5318 - val_mae: 2.6400\n",
            "Epoch 25/50\n",
            "\u001b[1m5/5\u001b[0m \u001b[32m━━━━━━━━━━━━━━━━━━━━\u001b[0m\u001b[37m\u001b[0m \u001b[1m0s\u001b[0m 24ms/step - loss: 9.0523 - mae: 2.7085 - val_loss: 8.5318 - val_mae: 2.6400\n",
            "Epoch 26/50\n",
            "\u001b[1m5/5\u001b[0m \u001b[32m━━━━━━━━━━━━━━━━━━━━\u001b[0m\u001b[37m\u001b[0m \u001b[1m0s\u001b[0m 25ms/step - loss: 9.2679 - mae: 2.7608 - val_loss: 8.5316 - val_mae: 2.6400\n",
            "Epoch 27/50\n",
            "\u001b[1m5/5\u001b[0m \u001b[32m━━━━━━━━━━━━━━━━━━━━\u001b[0m\u001b[37m\u001b[0m \u001b[1m0s\u001b[0m 33ms/step - loss: 9.3973 - mae: 2.7788 - val_loss: 8.5315 - val_mae: 2.6400\n",
            "Epoch 28/50\n",
            "\u001b[1m5/5\u001b[0m \u001b[32m━━━━━━━━━━━━━━━━━━━━\u001b[0m\u001b[37m\u001b[0m \u001b[1m0s\u001b[0m 35ms/step - loss: 9.6673 - mae: 2.8394 - val_loss: 8.5315 - val_mae: 2.6400\n",
            "Epoch 29/50\n",
            "\u001b[1m5/5\u001b[0m \u001b[32m━━━━━━━━━━━━━━━━━━━━\u001b[0m\u001b[37m\u001b[0m \u001b[1m0s\u001b[0m 31ms/step - loss: 8.7009 - mae: 2.6637 - val_loss: 8.5315 - val_mae: 2.6400\n",
            "Epoch 30/50\n",
            "\u001b[1m5/5\u001b[0m \u001b[32m━━━━━━━━━━━━━━━━━━━━\u001b[0m\u001b[37m\u001b[0m \u001b[1m0s\u001b[0m 27ms/step - loss: 9.3423 - mae: 2.7832 - val_loss: 8.5316 - val_mae: 2.6400\n",
            "Epoch 31/50\n",
            "\u001b[1m5/5\u001b[0m \u001b[32m━━━━━━━━━━━━━━━━━━━━\u001b[0m\u001b[37m\u001b[0m \u001b[1m0s\u001b[0m 35ms/step - loss: 8.7592 - mae: 2.6571 - val_loss: 8.5314 - val_mae: 2.6400\n",
            "Epoch 32/50\n",
            "\u001b[1m5/5\u001b[0m \u001b[32m━━━━━━━━━━━━━━━━━━━━\u001b[0m\u001b[37m\u001b[0m \u001b[1m0s\u001b[0m 18ms/step - loss: 9.0829 - mae: 2.7374 - val_loss: 8.5313 - val_mae: 2.6400\n",
            "Epoch 33/50\n",
            "\u001b[1m5/5\u001b[0m \u001b[32m━━━━━━━━━━━━━━━━━━━━\u001b[0m\u001b[37m\u001b[0m \u001b[1m0s\u001b[0m 19ms/step - loss: 8.8532 - mae: 2.6800 - val_loss: 8.5313 - val_mae: 2.6400\n",
            "Epoch 34/50\n",
            "\u001b[1m5/5\u001b[0m \u001b[32m━━━━━━━━━━━━━━━━━━━━\u001b[0m\u001b[37m\u001b[0m \u001b[1m0s\u001b[0m 20ms/step - loss: 9.1507 - mae: 2.7416 - val_loss: 8.5313 - val_mae: 2.6400\n",
            "Epoch 35/50\n",
            "\u001b[1m5/5\u001b[0m \u001b[32m━━━━━━━━━━━━━━━━━━━━\u001b[0m\u001b[37m\u001b[0m \u001b[1m0s\u001b[0m 19ms/step - loss: 8.7909 - mae: 2.6276 - val_loss: 8.5313 - val_mae: 2.6400\n",
            "Epoch 36/50\n",
            "\u001b[1m5/5\u001b[0m \u001b[32m━━━━━━━━━━━━━━━━━━━━\u001b[0m\u001b[37m\u001b[0m \u001b[1m0s\u001b[0m 19ms/step - loss: 8.7101 - mae: 2.6471 - val_loss: 8.5312 - val_mae: 2.6400\n",
            "Epoch 37/50\n",
            "\u001b[1m5/5\u001b[0m \u001b[32m━━━━━━━━━━━━━━━━━━━━\u001b[0m\u001b[37m\u001b[0m \u001b[1m0s\u001b[0m 19ms/step - loss: 9.1256 - mae: 2.7561 - val_loss: 8.5312 - val_mae: 2.6400\n",
            "Epoch 38/50\n",
            "\u001b[1m5/5\u001b[0m \u001b[32m━━━━━━━━━━━━━━━━━━━━\u001b[0m\u001b[37m\u001b[0m \u001b[1m0s\u001b[0m 18ms/step - loss: 9.3185 - mae: 2.7830 - val_loss: 8.5312 - val_mae: 2.6400\n",
            "Epoch 39/50\n",
            "\u001b[1m5/5\u001b[0m \u001b[32m━━━━━━━━━━━━━━━━━━━━\u001b[0m\u001b[37m\u001b[0m \u001b[1m0s\u001b[0m 29ms/step - loss: 8.6541 - mae: 2.6354 - val_loss: 8.5312 - val_mae: 2.6400\n",
            "Epoch 40/50\n",
            "\u001b[1m5/5\u001b[0m \u001b[32m━━━━━━━━━━━━━━━━━━━━\u001b[0m\u001b[37m\u001b[0m \u001b[1m0s\u001b[0m 18ms/step - loss: 8.9346 - mae: 2.6761 - val_loss: 8.5311 - val_mae: 2.6400\n",
            "Epoch 41/50\n",
            "\u001b[1m5/5\u001b[0m \u001b[32m━━━━━━━━━━━━━━━━━━━━\u001b[0m\u001b[37m\u001b[0m \u001b[1m0s\u001b[0m 18ms/step - loss: 8.8328 - mae: 2.6685 - val_loss: 8.5313 - val_mae: 2.6400\n",
            "Epoch 42/50\n",
            "\u001b[1m5/5\u001b[0m \u001b[32m━━━━━━━━━━━━━━━━━━━━\u001b[0m\u001b[37m\u001b[0m \u001b[1m0s\u001b[0m 19ms/step - loss: 8.9802 - mae: 2.7008 - val_loss: 8.5312 - val_mae: 2.6400\n",
            "Epoch 43/50\n",
            "\u001b[1m5/5\u001b[0m \u001b[32m━━━━━━━━━━━━━━━━━━━━\u001b[0m\u001b[37m\u001b[0m \u001b[1m0s\u001b[0m 18ms/step - loss: 9.4128 - mae: 2.8092 - val_loss: 8.5312 - val_mae: 2.6400\n",
            "Epoch 44/50\n",
            "\u001b[1m5/5\u001b[0m \u001b[32m━━━━━━━━━━━━━━━━━━━━\u001b[0m\u001b[37m\u001b[0m \u001b[1m0s\u001b[0m 19ms/step - loss: 8.9309 - mae: 2.6962 - val_loss: 8.5311 - val_mae: 2.6400\n",
            "Epoch 45/50\n",
            "\u001b[1m5/5\u001b[0m \u001b[32m━━━━━━━━━━━━━━━━━━━━\u001b[0m\u001b[37m\u001b[0m \u001b[1m0s\u001b[0m 19ms/step - loss: 8.5894 - mae: 2.5879 - val_loss: 8.5311 - val_mae: 2.6400\n",
            "Epoch 46/50\n",
            "\u001b[1m5/5\u001b[0m \u001b[32m━━━━━━━━━━━━━━━━━━━━\u001b[0m\u001b[37m\u001b[0m \u001b[1m0s\u001b[0m 22ms/step - loss: 9.1235 - mae: 2.7324 - val_loss: 8.5311 - val_mae: 2.6400\n",
            "Epoch 47/50\n",
            "\u001b[1m5/5\u001b[0m \u001b[32m━━━━━━━━━━━━━━━━━━━━\u001b[0m\u001b[37m\u001b[0m \u001b[1m0s\u001b[0m 30ms/step - loss: 9.0519 - mae: 2.7348 - val_loss: 8.5311 - val_mae: 2.6400\n",
            "Epoch 48/50\n",
            "\u001b[1m5/5\u001b[0m \u001b[32m━━━━━━━━━━━━━━━━━━━━\u001b[0m\u001b[37m\u001b[0m \u001b[1m0s\u001b[0m 18ms/step - loss: 8.9658 - mae: 2.7204 - val_loss: 8.5311 - val_mae: 2.6400\n",
            "Epoch 49/50\n",
            "\u001b[1m5/5\u001b[0m \u001b[32m━━━━━━━━━━━━━━━━━━━━\u001b[0m\u001b[37m\u001b[0m \u001b[1m0s\u001b[0m 19ms/step - loss: 8.8370 - mae: 2.6522 - val_loss: 8.5310 - val_mae: 2.6400\n",
            "Epoch 50/50\n",
            "\u001b[1m5/5\u001b[0m \u001b[32m━━━━━━━━━━━━━━━━━━━━\u001b[0m\u001b[37m\u001b[0m \u001b[1m0s\u001b[0m 18ms/step - loss: 9.2882 - mae: 2.7612 - val_loss: 8.5310 - val_mae: 2.6400\n"
          ]
        },
        {
          "output_type": "execute_result",
          "data": {
            "text/plain": [
              "<keras.src.callbacks.history.History at 0x7c219d710e10>"
            ]
          },
          "metadata": {},
          "execution_count": 56
        }
      ]
    },
    {
      "cell_type": "markdown",
      "source": [
        "# New Section"
      ],
      "metadata": {
        "id": "IVylCcoiwqti"
      }
    },
    {
      "cell_type": "code",
      "source": [
        "import pandas as pd\n",
        "from sklearn.model_selection import train_test_split\n",
        "from sklearn.preprocessing import StandardScaler, LabelEncoder\n",
        "import tensorflow as tf\n",
        "from tensorflow import keras\n",
        "from tensorflow.keras import layers"
      ],
      "metadata": {
        "id": "Vm3648cdwu-P"
      },
      "execution_count": 9,
      "outputs": []
    },
    {
      "cell_type": "code",
      "source": [
        "data = pd.read_csv('drug200.csv')"
      ],
      "metadata": {
        "id": "GcF4kK5txKgy"
      },
      "execution_count": 10,
      "outputs": []
    },
    {
      "cell_type": "code",
      "source": [
        "X = data.drop('Drug', axis=1)\n",
        "y = data['Drug']"
      ],
      "metadata": {
        "id": "H3u6EIelxNQQ"
      },
      "execution_count": 11,
      "outputs": []
    },
    {
      "cell_type": "code",
      "source": [
        "X = pd.get_dummies(X, columns=['Sex', 'BP', 'Cholesterol'], prefix=['Sex', 'BP', 'Cholesterol'])\n"
      ],
      "metadata": {
        "id": "SQPgoCVHxPJa"
      },
      "execution_count": 12,
      "outputs": []
    },
    {
      "cell_type": "code",
      "source": [
        "label_encoder = LabelEncoder()\n",
        "y = label_encoder.fit_transform(y)\n"
      ],
      "metadata": {
        "id": "p4CvzgYgxRmV"
      },
      "execution_count": 13,
      "outputs": []
    },
    {
      "cell_type": "code",
      "source": [
        "X_train, X_temp, y_train, y_temp = train_test_split(X, y, test_size=0.3, random_state=42)\n",
        "X_val, X_test, y_val, y_test = train_test_split(X_temp, y_temp, test_size=0.5, random_state=42)"
      ],
      "metadata": {
        "id": "vTjCmEgUxUsG"
      },
      "execution_count": 14,
      "outputs": []
    },
    {
      "cell_type": "code",
      "source": [
        "scaler = StandardScaler()\n",
        "X_train = scaler.fit_transform(X_train)\n",
        "X_val = scaler.transform(X_val)\n",
        "X_test = scaler.transform(X_test)"
      ],
      "metadata": {
        "id": "6t6rj_-MxWjh"
      },
      "execution_count": 15,
      "outputs": []
    },
    {
      "cell_type": "code",
      "source": [
        "model = keras.Sequential([\n",
        "    layers.Input(shape=(X_train.shape[1],)),\n",
        "    layers.Dense(64, activation='relu'),\n",
        "    layers.Dropout(0.2),\n",
        "    layers.Dense(32, activation='relu'),\n",
        "    layers.Dropout(0.2),\n",
        "    layers.Dense(5, activation='softmax')\n",
        "])"
      ],
      "metadata": {
        "id": "-XV97TdSxZgd"
      },
      "execution_count": 16,
      "outputs": []
    },
    {
      "cell_type": "code",
      "source": [
        "model.compile(optimizer='adam',\n",
        "              loss='sparse_categorical_crossentropy',\n",
        "              metrics=['accuracy'])\n"
      ],
      "metadata": {
        "id": "E7_b9i9txbvM"
      },
      "execution_count": 17,
      "outputs": []
    },
    {
      "cell_type": "code",
      "source": [],
      "metadata": {
        "id": "BtmFB-LIzOW4"
      },
      "execution_count": 17,
      "outputs": []
    },
    {
      "cell_type": "code",
      "source": [
        "\n",
        "history = model.fit(X_train, y_train,\n",
        "                    epochs=50,\n",
        "                    batch_size=32,\n",
        "                    validation_data=(X_val, y_val),\n",
        "                    callbacks=[tb_callback],\n",
        "                    verbose=1)"
      ],
      "metadata": {
        "colab": {
          "base_uri": "https://localhost:8080/"
        },
        "id": "Qb5NU8nc1WWM",
        "outputId": "e25e4881-ee9a-4cac-f88e-5d8fd656c8b1"
      },
      "execution_count": 31,
      "outputs": [
        {
          "output_type": "stream",
          "name": "stdout",
          "text": [
            "Epoch 1/50\n",
            "\u001b[1m5/5\u001b[0m \u001b[32m━━━━━━━━━━━━━━━━━━━━\u001b[0m\u001b[37m\u001b[0m \u001b[1m3s\u001b[0m 118ms/step - accuracy: 0.2340 - loss: 1.6409 - val_accuracy: 0.1667 - val_loss: 1.5075\n",
            "Epoch 2/50\n",
            "\u001b[1m5/5\u001b[0m \u001b[32m━━━━━━━━━━━━━━━━━━━━\u001b[0m\u001b[37m\u001b[0m \u001b[1m0s\u001b[0m 43ms/step - accuracy: 0.3294 - loss: 1.4901 - val_accuracy: 0.2667 - val_loss: 1.4213\n",
            "Epoch 3/50\n",
            "\u001b[1m5/5\u001b[0m \u001b[32m━━━━━━━━━━━━━━━━━━━━\u001b[0m\u001b[37m\u001b[0m \u001b[1m0s\u001b[0m 39ms/step - accuracy: 0.4735 - loss: 1.3550 - val_accuracy: 0.3667 - val_loss: 1.3488\n",
            "Epoch 4/50\n",
            "\u001b[1m5/5\u001b[0m \u001b[32m━━━━━━━━━━━━━━━━━━━━\u001b[0m\u001b[37m\u001b[0m \u001b[1m0s\u001b[0m 41ms/step - accuracy: 0.5321 - loss: 1.2967 - val_accuracy: 0.3667 - val_loss: 1.2884\n",
            "Epoch 5/50\n",
            "\u001b[1m5/5\u001b[0m \u001b[32m━━━━━━━━━━━━━━━━━━━━\u001b[0m\u001b[37m\u001b[0m \u001b[1m0s\u001b[0m 69ms/step - accuracy: 0.5726 - loss: 1.2339 - val_accuracy: 0.4333 - val_loss: 1.2360\n",
            "Epoch 6/50\n",
            "\u001b[1m5/5\u001b[0m \u001b[32m━━━━━━━━━━━━━━━━━━━━\u001b[0m\u001b[37m\u001b[0m \u001b[1m0s\u001b[0m 80ms/step - accuracy: 0.5193 - loss: 1.2248 - val_accuracy: 0.4667 - val_loss: 1.1883\n",
            "Epoch 7/50\n",
            "\u001b[1m5/5\u001b[0m \u001b[32m━━━━━━━━━━━━━━━━━━━━\u001b[0m\u001b[37m\u001b[0m \u001b[1m0s\u001b[0m 42ms/step - accuracy: 0.5241 - loss: 1.1711 - val_accuracy: 0.4667 - val_loss: 1.1412\n",
            "Epoch 8/50\n",
            "\u001b[1m5/5\u001b[0m \u001b[32m━━━━━━━━━━━━━━━━━━━━\u001b[0m\u001b[37m\u001b[0m \u001b[1m0s\u001b[0m 63ms/step - accuracy: 0.5948 - loss: 1.0965 - val_accuracy: 0.5000 - val_loss: 1.0997\n",
            "Epoch 9/50\n",
            "\u001b[1m5/5\u001b[0m \u001b[32m━━━━━━━━━━━━━━━━━━━━\u001b[0m\u001b[37m\u001b[0m \u001b[1m1s\u001b[0m 48ms/step - accuracy: 0.6219 - loss: 1.0293 - val_accuracy: 0.5000 - val_loss: 1.0625\n",
            "Epoch 10/50\n",
            "\u001b[1m5/5\u001b[0m \u001b[32m━━━━━━━━━━━━━━━━━━━━\u001b[0m\u001b[37m\u001b[0m \u001b[1m0s\u001b[0m 69ms/step - accuracy: 0.6154 - loss: 1.0430 - val_accuracy: 0.5000 - val_loss: 1.0256\n",
            "Epoch 11/50\n",
            "\u001b[1m5/5\u001b[0m \u001b[32m━━━━━━━━━━━━━━━━━━━━\u001b[0m\u001b[37m\u001b[0m \u001b[1m0s\u001b[0m 51ms/step - accuracy: 0.5767 - loss: 1.0056 - val_accuracy: 0.5333 - val_loss: 0.9895\n",
            "Epoch 12/50\n",
            "\u001b[1m5/5\u001b[0m \u001b[32m━━━━━━━━━━━━━━━━━━━━\u001b[0m\u001b[37m\u001b[0m \u001b[1m0s\u001b[0m 40ms/step - accuracy: 0.6596 - loss: 0.8975 - val_accuracy: 0.5333 - val_loss: 0.9549\n",
            "Epoch 13/50\n",
            "\u001b[1m5/5\u001b[0m \u001b[32m━━━━━━━━━━━━━━━━━━━━\u001b[0m\u001b[37m\u001b[0m \u001b[1m0s\u001b[0m 20ms/step - accuracy: 0.6331 - loss: 0.8945 - val_accuracy: 0.5333 - val_loss: 0.9148\n",
            "Epoch 14/50\n",
            "\u001b[1m5/5\u001b[0m \u001b[32m━━━━━━━━━━━━━━━━━━━━\u001b[0m\u001b[37m\u001b[0m \u001b[1m0s\u001b[0m 32ms/step - accuracy: 0.7297 - loss: 0.8269 - val_accuracy: 0.6000 - val_loss: 0.8765\n",
            "Epoch 15/50\n",
            "\u001b[1m5/5\u001b[0m \u001b[32m━━━━━━━━━━━━━━━━━━━━\u001b[0m\u001b[37m\u001b[0m \u001b[1m0s\u001b[0m 37ms/step - accuracy: 0.6826 - loss: 0.8571 - val_accuracy: 0.6000 - val_loss: 0.8405\n",
            "Epoch 16/50\n",
            "\u001b[1m5/5\u001b[0m \u001b[32m━━━━━━━━━━━━━━━━━━━━\u001b[0m\u001b[37m\u001b[0m \u001b[1m0s\u001b[0m 36ms/step - accuracy: 0.7036 - loss: 0.7761 - val_accuracy: 0.6667 - val_loss: 0.8037\n",
            "Epoch 17/50\n",
            "\u001b[1m5/5\u001b[0m \u001b[32m━━━━━━━━━━━━━━━━━━━━\u001b[0m\u001b[37m\u001b[0m \u001b[1m0s\u001b[0m 35ms/step - accuracy: 0.6647 - loss: 0.8420 - val_accuracy: 0.6667 - val_loss: 0.7669\n",
            "Epoch 18/50\n",
            "\u001b[1m5/5\u001b[0m \u001b[32m━━━━━━━━━━━━━━━━━━━━\u001b[0m\u001b[37m\u001b[0m \u001b[1m0s\u001b[0m 35ms/step - accuracy: 0.7320 - loss: 0.7529 - val_accuracy: 0.6667 - val_loss: 0.7291\n",
            "Epoch 19/50\n",
            "\u001b[1m5/5\u001b[0m \u001b[32m━━━━━━━━━━━━━━━━━━━━\u001b[0m\u001b[37m\u001b[0m \u001b[1m0s\u001b[0m 35ms/step - accuracy: 0.7515 - loss: 0.7236 - val_accuracy: 0.7000 - val_loss: 0.6926\n",
            "Epoch 20/50\n",
            "\u001b[1m5/5\u001b[0m \u001b[32m━━━━━━━━━━━━━━━━━━━━\u001b[0m\u001b[37m\u001b[0m \u001b[1m0s\u001b[0m 38ms/step - accuracy: 0.7728 - loss: 0.6641 - val_accuracy: 0.7667 - val_loss: 0.6586\n",
            "Epoch 21/50\n",
            "\u001b[1m5/5\u001b[0m \u001b[32m━━━━━━━━━━━━━━━━━━━━\u001b[0m\u001b[37m\u001b[0m \u001b[1m0s\u001b[0m 33ms/step - accuracy: 0.7613 - loss: 0.6467 - val_accuracy: 0.8333 - val_loss: 0.6292\n",
            "Epoch 22/50\n",
            "\u001b[1m5/5\u001b[0m \u001b[32m━━━━━━━━━━━━━━━━━━━━\u001b[0m\u001b[37m\u001b[0m \u001b[1m0s\u001b[0m 38ms/step - accuracy: 0.7569 - loss: 0.6737 - val_accuracy: 0.8667 - val_loss: 0.6019\n",
            "Epoch 23/50\n",
            "\u001b[1m5/5\u001b[0m \u001b[32m━━━━━━━━━━━━━━━━━━━━\u001b[0m\u001b[37m\u001b[0m \u001b[1m0s\u001b[0m 21ms/step - accuracy: 0.8120 - loss: 0.5505 - val_accuracy: 0.8667 - val_loss: 0.5732\n",
            "Epoch 24/50\n",
            "\u001b[1m5/5\u001b[0m \u001b[32m━━━━━━━━━━━━━━━━━━━━\u001b[0m\u001b[37m\u001b[0m \u001b[1m0s\u001b[0m 19ms/step - accuracy: 0.8053 - loss: 0.5915 - val_accuracy: 0.9000 - val_loss: 0.5456\n",
            "Epoch 25/50\n",
            "\u001b[1m5/5\u001b[0m \u001b[32m━━━━━━━━━━━━━━━━━━━━\u001b[0m\u001b[37m\u001b[0m \u001b[1m0s\u001b[0m 20ms/step - accuracy: 0.8149 - loss: 0.5223 - val_accuracy: 0.9333 - val_loss: 0.5173\n",
            "Epoch 26/50\n",
            "\u001b[1m5/5\u001b[0m \u001b[32m━━━━━━━━━━━━━━━━━━━━\u001b[0m\u001b[37m\u001b[0m \u001b[1m0s\u001b[0m 22ms/step - accuracy: 0.7765 - loss: 0.5972 - val_accuracy: 0.9333 - val_loss: 0.4887\n",
            "Epoch 27/50\n",
            "\u001b[1m5/5\u001b[0m \u001b[32m━━━━━━━━━━━━━━━━━━━━\u001b[0m\u001b[37m\u001b[0m \u001b[1m0s\u001b[0m 21ms/step - accuracy: 0.7925 - loss: 0.5575 - val_accuracy: 0.9667 - val_loss: 0.4635\n",
            "Epoch 28/50\n",
            "\u001b[1m5/5\u001b[0m \u001b[32m━━━━━━━━━━━━━━━━━━━━\u001b[0m\u001b[37m\u001b[0m \u001b[1m0s\u001b[0m 20ms/step - accuracy: 0.8391 - loss: 0.5295 - val_accuracy: 0.9333 - val_loss: 0.4400\n",
            "Epoch 29/50\n",
            "\u001b[1m5/5\u001b[0m \u001b[32m━━━━━━━━━━━━━━━━━━━━\u001b[0m\u001b[37m\u001b[0m \u001b[1m0s\u001b[0m 22ms/step - accuracy: 0.9191 - loss: 0.4457 - val_accuracy: 0.9333 - val_loss: 0.4144\n",
            "Epoch 30/50\n",
            "\u001b[1m5/5\u001b[0m \u001b[32m━━━━━━━━━━━━━━━━━━━━\u001b[0m\u001b[37m\u001b[0m \u001b[1m0s\u001b[0m 21ms/step - accuracy: 0.8894 - loss: 0.4503 - val_accuracy: 0.9667 - val_loss: 0.3919\n",
            "Epoch 31/50\n",
            "\u001b[1m5/5\u001b[0m \u001b[32m━━━━━━━━━━━━━━━━━━━━\u001b[0m\u001b[37m\u001b[0m \u001b[1m0s\u001b[0m 22ms/step - accuracy: 0.9018 - loss: 0.4229 - val_accuracy: 0.9667 - val_loss: 0.3691\n",
            "Epoch 32/50\n",
            "\u001b[1m5/5\u001b[0m \u001b[32m━━━━━━━━━━━━━━━━━━━━\u001b[0m\u001b[37m\u001b[0m \u001b[1m0s\u001b[0m 30ms/step - accuracy: 0.8892 - loss: 0.4190 - val_accuracy: 0.9667 - val_loss: 0.3530\n",
            "Epoch 33/50\n",
            "\u001b[1m5/5\u001b[0m \u001b[32m━━━━━━━━━━━━━━━━━━━━\u001b[0m\u001b[37m\u001b[0m \u001b[1m0s\u001b[0m 32ms/step - accuracy: 0.8458 - loss: 0.4741 - val_accuracy: 0.9667 - val_loss: 0.3407\n",
            "Epoch 34/50\n",
            "\u001b[1m5/5\u001b[0m \u001b[32m━━━━━━━━━━━━━━━━━━━━\u001b[0m\u001b[37m\u001b[0m \u001b[1m0s\u001b[0m 21ms/step - accuracy: 0.8528 - loss: 0.4211 - val_accuracy: 0.9667 - val_loss: 0.3326\n",
            "Epoch 35/50\n",
            "\u001b[1m5/5\u001b[0m \u001b[32m━━━━━━━━━━━━━━━━━━━━\u001b[0m\u001b[37m\u001b[0m \u001b[1m0s\u001b[0m 20ms/step - accuracy: 0.8849 - loss: 0.3931 - val_accuracy: 0.9667 - val_loss: 0.3199\n",
            "Epoch 36/50\n",
            "\u001b[1m5/5\u001b[0m \u001b[32m━━━━━━━━━━━━━━━━━━━━\u001b[0m\u001b[37m\u001b[0m \u001b[1m0s\u001b[0m 21ms/step - accuracy: 0.9016 - loss: 0.3773 - val_accuracy: 0.9667 - val_loss: 0.3090\n",
            "Epoch 37/50\n",
            "\u001b[1m5/5\u001b[0m \u001b[32m━━━━━━━━━━━━━━━━━━━━\u001b[0m\u001b[37m\u001b[0m \u001b[1m0s\u001b[0m 21ms/step - accuracy: 0.9202 - loss: 0.3382 - val_accuracy: 0.9667 - val_loss: 0.2912\n",
            "Epoch 38/50\n",
            "\u001b[1m5/5\u001b[0m \u001b[32m━━━━━━━━━━━━━━━━━━━━\u001b[0m\u001b[37m\u001b[0m \u001b[1m0s\u001b[0m 20ms/step - accuracy: 0.8647 - loss: 0.3806 - val_accuracy: 0.9667 - val_loss: 0.2788\n",
            "Epoch 39/50\n",
            "\u001b[1m5/5\u001b[0m \u001b[32m━━━━━━━━━━━━━━━━━━━━\u001b[0m\u001b[37m\u001b[0m \u001b[1m0s\u001b[0m 20ms/step - accuracy: 0.8831 - loss: 0.3422 - val_accuracy: 0.9667 - val_loss: 0.2650\n",
            "Epoch 40/50\n",
            "\u001b[1m5/5\u001b[0m \u001b[32m━━━━━━━━━━━━━━━━━━━━\u001b[0m\u001b[37m\u001b[0m \u001b[1m0s\u001b[0m 33ms/step - accuracy: 0.8810 - loss: 0.3665 - val_accuracy: 0.9667 - val_loss: 0.2530\n",
            "Epoch 41/50\n",
            "\u001b[1m5/5\u001b[0m \u001b[32m━━━━━━━━━━━━━━━━━━━━\u001b[0m\u001b[37m\u001b[0m \u001b[1m0s\u001b[0m 30ms/step - accuracy: 0.8916 - loss: 0.3249 - val_accuracy: 0.9667 - val_loss: 0.2411\n",
            "Epoch 42/50\n",
            "\u001b[1m5/5\u001b[0m \u001b[32m━━━━━━━━━━━━━━━━━━━━\u001b[0m\u001b[37m\u001b[0m \u001b[1m0s\u001b[0m 21ms/step - accuracy: 0.9402 - loss: 0.2948 - val_accuracy: 0.9667 - val_loss: 0.2310\n",
            "Epoch 43/50\n",
            "\u001b[1m5/5\u001b[0m \u001b[32m━━━━━━━━━━━━━━━━━━━━\u001b[0m\u001b[37m\u001b[0m \u001b[1m0s\u001b[0m 21ms/step - accuracy: 0.9363 - loss: 0.2711 - val_accuracy: 0.9667 - val_loss: 0.2215\n",
            "Epoch 44/50\n",
            "\u001b[1m5/5\u001b[0m \u001b[32m━━━━━━━━━━━━━━━━━━━━\u001b[0m\u001b[37m\u001b[0m \u001b[1m0s\u001b[0m 21ms/step - accuracy: 0.9402 - loss: 0.2378 - val_accuracy: 0.9667 - val_loss: 0.2123\n",
            "Epoch 45/50\n",
            "\u001b[1m5/5\u001b[0m \u001b[32m━━━━━━━━━━━━━━━━━━━━\u001b[0m\u001b[37m\u001b[0m \u001b[1m0s\u001b[0m 20ms/step - accuracy: 0.9477 - loss: 0.2657 - val_accuracy: 0.9667 - val_loss: 0.2058\n",
            "Epoch 46/50\n",
            "\u001b[1m5/5\u001b[0m \u001b[32m━━━━━━━━━━━━━━━━━━━━\u001b[0m\u001b[37m\u001b[0m \u001b[1m0s\u001b[0m 30ms/step - accuracy: 0.9241 - loss: 0.2975 - val_accuracy: 0.9667 - val_loss: 0.2002\n",
            "Epoch 47/50\n",
            "\u001b[1m5/5\u001b[0m \u001b[32m━━━━━━━━━━━━━━━━━━━━\u001b[0m\u001b[37m\u001b[0m \u001b[1m0s\u001b[0m 21ms/step - accuracy: 0.8881 - loss: 0.2943 - val_accuracy: 0.9667 - val_loss: 0.1950\n",
            "Epoch 48/50\n",
            "\u001b[1m5/5\u001b[0m \u001b[32m━━━━━━━━━━━━━━━━━━━━\u001b[0m\u001b[37m\u001b[0m \u001b[1m0s\u001b[0m 20ms/step - accuracy: 0.9232 - loss: 0.2594 - val_accuracy: 0.9667 - val_loss: 0.1892\n",
            "Epoch 49/50\n",
            "\u001b[1m5/5\u001b[0m \u001b[32m━━━━━━━━━━━━━━━━━━━━\u001b[0m\u001b[37m\u001b[0m \u001b[1m0s\u001b[0m 22ms/step - accuracy: 0.9187 - loss: 0.2590 - val_accuracy: 0.9667 - val_loss: 0.1839\n",
            "Epoch 50/50\n",
            "\u001b[1m5/5\u001b[0m \u001b[32m━━━━━━━━━━━━━━━━━━━━\u001b[0m\u001b[37m\u001b[0m \u001b[1m0s\u001b[0m 21ms/step - accuracy: 0.9198 - loss: 0.2632 - val_accuracy: 0.9667 - val_loss: 0.1798\n"
          ]
        }
      ]
    },
    {
      "cell_type": "code",
      "source": [
        "predictions = model.predict(X_test)\n",
        "print(model.predict(X_test))"
      ],
      "metadata": {
        "colab": {
          "base_uri": "https://localhost:8080/"
        },
        "id": "8hVbGyfNsj7P",
        "outputId": "c9ff7e93-a7d5-43ee-ef38-eab6433ee634"
      },
      "execution_count": 19,
      "outputs": [
        {
          "output_type": "stream",
          "name": "stdout",
          "text": [
            "\u001b[1m1/1\u001b[0m \u001b[32m━━━━━━━━━━━━━━━━━━━━\u001b[0m\u001b[37m\u001b[0m \u001b[1m0s\u001b[0m 177ms/step\n",
            "\u001b[1m1/1\u001b[0m \u001b[32m━━━━━━━━━━━━━━━━━━━━\u001b[0m\u001b[37m\u001b[0m \u001b[1m0s\u001b[0m 35ms/step\n",
            "[[0.23789361 0.16210349 0.14202344 0.2484785  0.20950101]\n",
            " [0.24037257 0.19487518 0.18829203 0.20809385 0.16836646]\n",
            " [0.1632297  0.16257015 0.17283975 0.19657633 0.3047841 ]\n",
            " [0.22722791 0.19567962 0.17905389 0.17244934 0.22558911]\n",
            " [0.22266443 0.17387228 0.20958367 0.18038009 0.21349956]\n",
            " [0.23811439 0.18856855 0.1707393  0.23061764 0.17196012]\n",
            " [0.15999292 0.14793485 0.1773905  0.32539803 0.18928374]\n",
            " [0.11421597 0.20084772 0.23254119 0.21199097 0.24040419]\n",
            " [0.36216655 0.12322062 0.15923049 0.18334752 0.17203477]\n",
            " [0.12393314 0.17909232 0.20965093 0.30531156 0.18201193]\n",
            " [0.35562617 0.12442391 0.16114329 0.1796621  0.17914464]\n",
            " [0.16058879 0.24965763 0.16052338 0.27014542 0.15908487]\n",
            " [0.40914452 0.1002055  0.13805003 0.2022361  0.1503638 ]\n",
            " [0.21560027 0.19953041 0.18178548 0.16976473 0.23331924]\n",
            " [0.2610459  0.18219367 0.19861369 0.18355985 0.17458682]\n",
            " [0.16382933 0.24024606 0.13922063 0.3080969  0.14860713]\n",
            " [0.14434181 0.27388173 0.18208782 0.25522238 0.14446627]\n",
            " [0.12357575 0.21297038 0.23042792 0.28859597 0.14443012]\n",
            " [0.1312062  0.15851729 0.22019544 0.24388438 0.24619675]\n",
            " [0.10803851 0.11512251 0.21536493 0.37345228 0.1880217 ]\n",
            " [0.19853945 0.18377383 0.20048255 0.19697171 0.22023234]\n",
            " [0.22652471 0.13740064 0.21270505 0.2034402  0.21992938]\n",
            " [0.14953983 0.27781984 0.18508111 0.2316584  0.15590079]\n",
            " [0.1260483  0.18607734 0.15550281 0.33846408 0.19390756]\n",
            " [0.06441106 0.11817038 0.24549763 0.39596444 0.17595653]\n",
            " [0.15503961 0.2852924  0.1850841  0.22060262 0.15398125]\n",
            " [0.24046552 0.21943718 0.21693371 0.17910856 0.1440551 ]\n",
            " [0.13536163 0.2761709  0.12324768 0.36922172 0.09599805]\n",
            " [0.09482002 0.19214624 0.18299377 0.2657686  0.26427138]\n",
            " [0.15801737 0.14464684 0.17024463 0.2951265  0.23196468]]\n"
          ]
        }
      ]
    },
    {
      "cell_type": "code",
      "source": [
        "model.save('drug_classification_model.h5')"
      ],
      "metadata": {
        "colab": {
          "base_uri": "https://localhost:8080/"
        },
        "id": "xb7dNoWstBFC",
        "outputId": "2fa86d17-bfff-4ab2-96a0-6f6082daf691"
      },
      "execution_count": 21,
      "outputs": [
        {
          "output_type": "stream",
          "name": "stderr",
          "text": [
            "WARNING:absl:You are saving your model as an HDF5 file via `model.save()` or `keras.saving.save_model(model)`. This file format is considered legacy. We recommend using instead the native Keras format, e.g. `model.save('my_model.keras')` or `keras.saving.save_model(model, 'my_model.keras')`. \n"
          ]
        }
      ]
    },
    {
      "cell_type": "code",
      "source": [
        "tb_callback = keras.callbacks.TensorBoard(\"tb_callback\")"
      ],
      "metadata": {
        "id": "yw8W6JE-I0fM"
      },
      "execution_count": 29,
      "outputs": []
    }
  ]
}